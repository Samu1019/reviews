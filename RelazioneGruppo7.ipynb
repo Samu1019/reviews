{
  "nbformat": 4,
  "nbformat_minor": 0,
  "metadata": {
    "colab": {
      "provenance": []
    },
    "kernelspec": {
      "name": "python3",
      "display_name": "Python 3"
    },
    "language_info": {
      "name": "python"
    }
  },
  "cells": [
    {
      "cell_type": "markdown",
      "source": [
        "INTRODUZIONE\n",
        "\n",
        "L'esperienza svolta in laboratorio consiste nell'analisi del moto del pendolo, focalizzandosi principalmente sulle grandezze da cui dipende il periodo di oscillazione. L'esperienza consiste in due parti:\n",
        "\n",
        "• Verificare che il periodo di oscillazione del pendolo dipende dalla lunghezza del braccio del pendolo e non dalla massa\n",
        "\n",
        "• Trovare la miglior stima dell'accelerazione gravitazionale\n",
        "\n",
        "\n",
        "Informazioni teoriche:\n",
        "\n",
        "L'unica formula utilizzata per l'esperienza è:\n",
        "$T = 2\\pi\\sqrt{\\frac{L}{g}}$ , dove T indica il periodo, L la lunghezza del filo e g l'accelerazione gravitazionale\n"
      ],
      "metadata": {
        "id": "FAPdOvA5xsvB"
      }
    },
    {
      "cell_type": "markdown",
      "source": [
        "STRUMENTAZIONI E MATERIALE\n",
        "\n",
        "Per l'esperienza sono stati utilizzati:\n",
        "\n",
        "• Bilancia con sensibilità 0,1 grammi\n",
        "\n",
        "• Goniometro a muro con sensibilità 1 grado\n",
        "\n",
        "• 3 pesi con massa differente\n",
        "\n",
        "• Filo inestensibile\n",
        "\n",
        "• Cronometro con sensibilità 0,01 secondi\n",
        "\n",
        "• Metro con sensibilità 0,001 metri"
      ],
      "metadata": {
        "id": "CLkR3iQt1QnS"
      }
    },
    {
      "cell_type": "markdown",
      "source": [
        "METODOLOGIA USATA\n",
        "\n",
        "Per la prima parte dell'esperienza con l'ausilio della bilancia sono state stabilite le masse dei tre pesi e con il metro abbiamo tagliato 3 pezzi di filo della stessa lunghezza con cui abbiamo costruito 3 pendoli con bracci uguali al fine di verificare che il periodo di oscillazione del pendolo non dipendesse dalla massa. Per quanto riguarda l'inclinazione da cui far partire il pendolo è stato scelto un angolo che, per l'approssimazione dei piccoli angoli e per la sensibilità del goniometro, abbia un errore più piccolo rispetto all' errore percentuale del cronometro.Abbiamo fatto diversi tentativi che hanno portato all' escludere un angolo di 10° e alla conclusione che l'angolo con l'errore ideale fosse di 5°.\n",
        "Il metodo utilizzato per misurare il periodo di oscillazione dei pendoli è quello di misurare il tempo di 11 oscillazioni del pendolo sottraendo il tempo della prima oscillazione. Questa scelta è dovuta dal fatto che, poiché il pendolo viene tenuto in mano prima del rilascio, la prima oscillazione è condizionata dalla spinta che viene conferita al pendolo dalla mano dell' osservatore al momento del rilascio, inoltre questa spinta va a compensare l'attrito dell'aria ponendo così il moto del pendolo in una situazione quasi ideale per la misura del periodo. Una volta trovate le misure del periodo,  andrà verificata l'indipendenza del periodo dell'oscillazione dalla massa del pendolo.\n",
        "Per verificare la dipendenza del periodo dalla lunghezza abbiamo utilizzato il peso con la massa più piccola e abbiamo misurato, con lo stesso metodo usato prima, il periodo di oscillazione utilizzando due bracci di lunghezza differente.\n",
        "\n",
        "Per la seconda parte dell'esperienza abbiamo utilizzato i dati raccolti dalla prima parte relativi al periodo di oscillazione e alla massa di un peso e abbiamo inserito i dati nella formula che ci è stata fornita: $T = 2\\pi\\sqrt{\\frac{l}{g}}$"
      ],
      "metadata": {
        "id": "z-tNWuYqviQe"
      }
    },
    {
      "cell_type": "code",
      "source": [
        "#Librerie utilizzate\n",
        "from sympy import symbols, diff\n",
        "import sympy as sp\n",
        "import numpy as np\n",
        "import pandas as pd\n",
        "import matplotlib.pyplot as plt\n",
        "from scipy import optimize\n",
        "from scipy.misc import derivative\n",
        "import math\n",
        "from scipy.optimize import curve_fit\n",
        "from scipy.stats import chi2\n",
        "k = symbols('k')\n",
        "#Valori masse,\n",
        "\n",
        "#bullone=m1, ruota=m2, massa con 2 ganci=m3"
      ],
      "metadata": {
        "id": "aptQILuGqmBb"
      },
      "execution_count": 15,
      "outputs": []
    },
    {
      "cell_type": "code",
      "source": [
        "#ARRAY\n",
        "\n",
        "#lunghezze\n",
        "l1m3= np.array([0.811, 0.810, 0.814, 0.813, 0.812])\n",
        "l2m3= np.array([0.441, 0.443, 0.442, 0.445, 0.443])\n",
        "l3m1= np.array([0.447, 0.448, 0.446, 0.447, 0.448])\n",
        "l4m2= np.array([0.445, 0.446, 0.445, 0.447, 0.446])\n",
        "#periodi\n",
        "T1m3= np.array([1.81, 1.81, 1.80, 1.80, 1.81])\n",
        "T2m3= np.array([1.33, 1.32, 1.33, 1.33, 1.32])\n",
        "T3m1= np.array([1.34, 1.34, 1.35, 1.34, 1.31])\n",
        "T4m2= np.array([1.34, 1.34, 1.34, 1.35, 1.32])\n",
        "\n",
        "data1 = {\n",
        "    'l1m3': ['0.81m' ,'0.810m','0.814m','0.813m', '0.812m'],\n",
        "    'l2m3': ['0.441m','0.443m', '0.442m', '0.445m', '0.443m'],\n",
        "    'l3m1': ['0.447m','0.448m', '0.446m','0.447m','0.448m'],\n",
        "    'l4m2': ['0.445m', '0.446m','0.445m', '0.447m', '0.446m'],\n",
        "}\n",
        "data2 = {\n",
        "    'T1m3': ['1.81s' ,'1.81s','1.80s','1.80s', '1.81s'],\n",
        "    'T2m3': ['1.33s','1.32s', '1.33s', '1.33s', '1.32s'],\n",
        "    'T3m1': ['1.34s','1.34s', '1.35s','1.34s','1.31s'],\n",
        "    'T4m2': ['1.34s', '1.34s','1.34s', '1.35s', '1.32s'],\n",
        "}\n",
        "df1 = pd.DataFrame(data1)\n",
        "df2 = pd.DataFrame(data2)\n",
        "print(df1)\n",
        "print(df2)"
      ],
      "metadata": {
        "id": "y2FqDxDn6Rsc",
        "colab": {
          "base_uri": "https://localhost:8080/"
        },
        "outputId": "5ce5a701-0084-41c0-905a-e35805e4c054"
      },
      "execution_count": 16,
      "outputs": [
        {
          "output_type": "stream",
          "name": "stdout",
          "text": [
            "     l1m3    l2m3    l3m1    l4m2\n",
            "0   0.81m  0.441m  0.447m  0.445m\n",
            "1  0.810m  0.443m  0.448m  0.446m\n",
            "2  0.814m  0.442m  0.446m  0.445m\n",
            "3  0.813m  0.445m  0.447m  0.447m\n",
            "4  0.812m  0.443m  0.448m  0.446m\n",
            "    T1m3   T2m3   T3m1   T4m2\n",
            "0  1.81s  1.33s  1.34s  1.34s\n",
            "1  1.81s  1.32s  1.34s  1.34s\n",
            "2  1.80s  1.33s  1.35s  1.34s\n",
            "3  1.80s  1.33s  1.34s  1.35s\n",
            "4  1.81s  1.32s  1.31s  1.32s\n"
          ]
        }
      ]
    },
    {
      "cell_type": "code",
      "source": [
        "#CALCOLO di media, SD, SDOM, Er% delle LUNGHEZZE\n",
        "\n",
        "#media\n",
        "l1m3_med=np.mean(l1m3)\n",
        "l2m3_med=np.mean(l2m3)\n",
        "l3m1_med=np.mean(l3m1)\n",
        "l4m2_med=np.mean(l4m2)\n",
        "#sd\n",
        "l1m3_SD=np.std(l1m3)\n",
        "l2m3_SD=np.std(l2m3)\n",
        "l3m1_SD=np.std(l3m1)\n",
        "l4m2_SD=np.std(l4m2)\n",
        "#sdom\n",
        "l1m3_SDOM=(l1m3_SD/np.sqrt(len(l1m3)))\n",
        "l2m3_SDOM=(l2m3_SD/np.sqrt(len(l2m3)))\n",
        "l3m1_SDOM=(l3m1_SD/np.sqrt(len(l3m1)))\n",
        "l4m2_SDOM=(l4m2_SD/np.sqrt(len(l4m2)))\n",
        "#er_SDOM\n",
        "er_l1m3=((l1m3_SDOM/l1m3_med)*100)\n",
        "er_l2m3=((l2m3_SDOM/l2m3_med)*100)\n",
        "er_l3m1=((l3m1_SDOM/l3m1_med)*100)\n",
        "er_l4m2=((l4m2_SDOM/l4m2_med)*100)\n",
        "\n",
        "data = {\n",
        "    'media': [l1m3_med, l2m3_med, l3m1_med, l4m2_med],\n",
        "    'sd': [l1m3_SD, l2m3_SD, l3m1_SD, l4m2_SD],\n",
        "    'sdom': [l1m3_SDOM, l2m3_SDOM, l3m1_SDOM, l4m2_SDOM],\n",
        "    'er_SDOM': [er_l1m3, er_l2m3, er_l3m1, er_l4m2]\n",
        "}\n",
        "\n",
        "\n",
        "df = pd.DataFrame(data)\n",
        "print(df)"
      ],
      "metadata": {
        "colab": {
          "base_uri": "https://localhost:8080/"
        },
        "id": "79UETEZyq2_n",
        "outputId": "341dfa50-ecfd-432d-acfc-82e6993dc229"
      },
      "execution_count": 17,
      "outputs": [
        {
          "output_type": "stream",
          "name": "stdout",
          "text": [
            "    media        sd      sdom   er_SDOM\n",
            "0  0.8120  0.001414  0.000632  0.077889\n",
            "1  0.4428  0.001327  0.000593  0.133987\n",
            "2  0.4472  0.000748  0.000335  0.074835\n",
            "3  0.4458  0.000748  0.000335  0.075070\n"
          ]
        }
      ]
    },
    {
      "cell_type": "code",
      "source": [
        "#CALCOLO di media, SD, SDOM, Er% dei PERIODI\n",
        "T1m3_med= np.mean(T1m3)\n",
        "T2m3_med= np.mean(T2m3)\n",
        "T3m1_med= np.mean(T3m1)\n",
        "T4m2_med= np.mean(T4m2)\n",
        "#sd\n",
        "T1m3_SD=np.std(T1m3)\n",
        "T2m3_SD=np.std(T2m3)\n",
        "T3m1_SD=np.std(T3m1)\n",
        "T4m2_SD=np.std(T4m2)\n",
        "#sdom\n",
        "T1m3_SDOM=(T1m3_SD/np.sqrt(len(T1m3)))\n",
        "T2m3_SDOM=(T2m3_SD/np.sqrt(len(T2m3)))\n",
        "T3m1_SDOM=(T3m1_SD/np.sqrt(len(T3m1)))\n",
        "T4m2_SDOM=(T4m2_SD/np.sqrt(len(T4m2)))\n",
        "#er_SDOM\n",
        "er_T1m3=((T1m3_SDOM/T1m3_med)*100)\n",
        "er_T2m3=((T2m3_SDOM/T2m3_med)*100)\n",
        "er_T3m1=((T3m1_SDOM/T3m1_med)*100)\n",
        "er_T4m2=((T4m2_SDOM/T4m2_med)*100)\n",
        "data = {\n",
        "    'media': [T1m3_med, T2m3_med, T3m1_med, T4m2_med],\n",
        "    'sd': [T1m3_SD, T2m3_SD, T3m1_SD, T4m2_SD],\n",
        "    'sdom': [T1m3_SDOM, T2m3_SDOM, T3m1_SDOM, T4m2_SDOM],\n",
        "    'er_SDOM': [er_T1m3, er_T2m3, er_T3m1, er_T4m2]\n",
        "}\n",
        "df = pd.DataFrame(data)\n",
        "print(df)"
      ],
      "metadata": {
        "colab": {
          "base_uri": "https://localhost:8080/"
        },
        "id": "bGCYS83fq_rz",
        "outputId": "4f316add-2bbd-4f43-dc66-103bf6464db2"
      },
      "execution_count": 18,
      "outputs": [
        {
          "output_type": "stream",
          "name": "stdout",
          "text": [
            "   media        sd      sdom   er_SDOM\n",
            "0  1.806  0.004899  0.002191  0.121312\n",
            "1  1.326  0.004899  0.002191  0.165226\n",
            "2  1.336  0.013565  0.006066  0.454064\n",
            "3  1.338  0.009798  0.004382  0.327487\n"
          ]
        }
      ]
    },
    {
      "cell_type": "code",
      "source": [
        "#10°\n",
        "#periodi\n",
        "T1m3_10= np.array([1.63, 1.62, 1.61, 1.63, 1.63])\n",
        "T2m3_10= np.array([1.29, 1.32, 1.30, 1.29, 1.30])\n",
        "T3m1_10= np.array([1.32, 1.32, 1.32, 1.34, 1.33])\n",
        "T4m2_10= np.array([1.30, 1.34, 1.33, 1.32, 1.33])\n",
        "data2_10 = {\n",
        "    'T1m3_10': ['1.63s' ,'1.62s','1.61s','1.63s', '1.63s'],\n",
        "    'T2m3_10': ['1.29s','1.32s', '1.30s', '1.29s', '1.30s'],\n",
        "    'T3m1_10': ['1.32s','1.32s', '1.32s','1.34s','1.33s'],\n",
        "    'T4m2_10': ['1.30s', '1.34s','1.33s', '1.32s', '1.33s'],\n",
        "}\n",
        "df2_10 = pd.DataFrame(data2_10)\n",
        "print(df2_10)"
      ],
      "metadata": {
        "id": "PjFTEn4jhUDW",
        "colab": {
          "base_uri": "https://localhost:8080/"
        },
        "outputId": "1c8a3e76-8166-4d59-c02e-00f0a3ff7c57"
      },
      "execution_count": 19,
      "outputs": [
        {
          "output_type": "stream",
          "name": "stdout",
          "text": [
            "  T1m3_10 T2m3_10 T3m1_10 T4m2_10\n",
            "0   1.63s   1.29s   1.32s   1.30s\n",
            "1   1.62s   1.32s   1.32s   1.34s\n",
            "2   1.61s   1.30s   1.32s   1.33s\n",
            "3   1.63s   1.29s   1.34s   1.32s\n",
            "4   1.63s   1.30s   1.33s   1.33s\n"
          ]
        }
      ]
    },
    {
      "cell_type": "code",
      "source": [
        "#CALCOLO di media, SD, SDOM, Er% dei PERIODI(angolo 10°)\n",
        "T1m3_med_10= np.mean(T1m3_10)\n",
        "T2m3_med_10= np.mean(T2m3_10)\n",
        "T3m1_med_10= np.mean(T3m1_10)\n",
        "T4m2_med_10= np.mean(T4m2_10)\n",
        "#sd\n",
        "T1m3_SD_10=np.std(T1m3_10)\n",
        "T2m3_SD_10=np.std(T2m3_10)\n",
        "T3m1_SD_10=np.std(T3m1_10)\n",
        "T4m2_SD_10=np.std(T4m2_10)\n",
        "#sdom\n",
        "T1m3_SDOM_10=(T1m3_SD_10/np.sqrt(len(T1m3_10)))\n",
        "T2m3_SDOM_10=(T2m3_SD_10/np.sqrt(len(T2m3_10)))\n",
        "T3m1_SDOM_10=(T3m1_SD_10/np.sqrt(len(T3m1_10)))\n",
        "T4m2_SDOM_10=(T4m2_SD_10/np.sqrt(len(T4m2_10)))\n",
        "#er_SDOM\n",
        "er_T1m3_10=((T1m3_SDOM_10/T1m3_med_10)*100)\n",
        "er_T2m3_10=((T2m3_SDOM_10/T2m3_med_10)*100)\n",
        "er_T3m1_10=((T3m1_SDOM_10/T3m1_med_10)*100)\n",
        "er_T4m2_10=((T4m2_SDOM_10/T4m2_med_10)*100)\n",
        "data = {\n",
        "    'media': [T1m3_med_10, T2m3_med_10, T3m1_med_10, T4m2_med_10],\n",
        "    'sd': [T1m3_SD_10, T2m3_SD_10, T3m1_SD_10, T4m2_SD_10],\n",
        "    'sdom': [T1m3_SDOM_10, T2m3_SDOM_10, T3m1_SDOM_10, T4m2_SDOM_10],\n",
        "    'er_SDOM': [er_T1m3_10, er_T2m3_10, er_T3m1_10, er_T4m2_10]\n",
        "}\n",
        "df = pd.DataFrame(data)\n",
        "print(df)"
      ],
      "metadata": {
        "id": "CUVziG_olFPT",
        "colab": {
          "base_uri": "https://localhost:8080/"
        },
        "outputId": "f8876177-9907-4ab4-fccf-d411792578d5"
      },
      "execution_count": 20,
      "outputs": [
        {
          "output_type": "stream",
          "name": "stdout",
          "text": [
            "   media        sd      sdom   er_SDOM\n",
            "0  1.624  0.008000  0.003578  0.220302\n",
            "1  1.300  0.010954  0.004899  0.376845\n",
            "2  1.326  0.008000  0.003578  0.269812\n",
            "3  1.324  0.013565  0.006066  0.458180\n"
          ]
        }
      ]
    },
    {
      "cell_type": "markdown",
      "source": [
        "Gli errori percentuali delle deviazioni standard sui periodi partendo da un angolo di 10° sono confrontabili con quello del angolo stesso. Questo implica che non è possibile utilizzare l'approssimazione per i piccoli angoli e che è necessario svolgere le misurazioni con un angolo di 5°."
      ],
      "metadata": {
        "id": "HGdF-jwgzZVq"
      }
    },
    {
      "cell_type": "code",
      "source": [
        "#CALCOLO DELLA COSTANTE K, per verificare la dipendenza dalla lunghezza\n",
        "l_med=np.array([l1m3_med, l2m3_med, l3m1_med, l4m2_med])\n",
        "T_med=np.array([T1m3_med, T2m3_med, T3m1_med, T4m2_med])\n",
        "\n",
        "def f1(l_med,K):\n",
        "  K*np.sqrt(l_med)\n",
        "  return K*np.sqrt(l_med)\n",
        "\n",
        "pnames=['K']\n",
        "\n",
        "#stima di K\n",
        "params, params_covariance = optimize.curve_fit(f1, l_med, T_med)\n",
        "print('K=', params)\n",
        "print('K_covariance=', params_covariance)\n",
        "#incertezza di K\n",
        "params_err = np.sqrt(np.diag(params_covariance))\n",
        "for pn, p, pe in zip(pnames, params, params_err):\n",
        "    print('La miglior stima del parametro è {} ={:>6.4f} +- {:>6.4f}'.format(pn, p, pe))"
      ],
      "metadata": {
        "colab": {
          "base_uri": "https://localhost:8080/"
        },
        "id": "yI-qbJVVrMrx",
        "outputId": "29574d66-f37d-4ebf-f171-468bd6a18fb2"
      },
      "execution_count": 21,
      "outputs": [
        {
          "output_type": "stream",
          "name": "stdout",
          "text": [
            "K= [2.00044289]\n",
            "K_covariance= [[7.23187693e-06]]\n",
            "La miglior stima del parametro è K =2.0004 +- 0.0027\n"
          ]
        }
      ]
    },
    {
      "cell_type": "code",
      "source": [
        "#calcolo delle 4 k\n",
        "l_med=np.array([l1m3_med, l2m3_med, l3m1_med, l4m2_med])\n",
        "T_med=np.array([T1m3_med, T2m3_med, T3m1_med, T4m2_med])\n",
        "T_sdom=np.array([T1m3_SDOM, T2m3_SDOM, T3m1_SDOM, T4m2_SDOM])\n",
        "def f2(l_med,K):\n",
        "  K*np.sqrt(l_med)\n",
        "  return K*np.sqrt(l_med)\n",
        "K1=T1m3_med/np.sqrt(l1m3_med)\n",
        "K2=T2m3_med/np.sqrt(l2m3_med)\n",
        "K3=T3m1_med/np.sqrt(l3m1_med)\n",
        "K4=T4m2_med/np.sqrt(l4m2_med)\n",
        "def calculate_uncertainty(sigma_T, T, sigma_l, l):\n",
        "    return 0.5 * sigma_T / np.sqrt(T) + 0.5 * sigma_l / np.sqrt(l)\n",
        "\n",
        "uncertainty_K1 = calculate_uncertainty(T1m3_SDOM, T1m3_med, l1m3_SDOM, l1m3_med)\n",
        "uncertainty_K2 = calculate_uncertainty(T2m3_SDOM, T2m3_med, l2m3_SDOM, l2m3_med)\n",
        "uncertainty_K3 = calculate_uncertainty(T3m1_SDOM, T3m1_med, l3m1_SDOM, l3m1_med)\n",
        "uncertainty_K4 = calculate_uncertainty(T4m2_SDOM, T4m2_med, l4m2_SDOM, l4m2_med)\n",
        "\n",
        "\n",
        "print(\"K1 = {:.4f} +- {:.4f}\".format(K1, uncertainty_K1))\n",
        "print(\"K2 = {:.4f} +- {:.4f}\".format(K2, uncertainty_K2))\n",
        "print(\"K3 = {:.4f} +- {:.4f}\".format(K3, uncertainty_K3))\n",
        "print(\"K4 = {:.4f} +- {:.4f}\".format(K4, uncertainty_K4))"
      ],
      "metadata": {
        "id": "H4cpIAY34z4V",
        "outputId": "7474d031-3b7b-4552-cb5d-f9241f4fc706",
        "colab": {
          "base_uri": "https://localhost:8080/"
        }
      },
      "execution_count": 22,
      "outputs": [
        {
          "output_type": "stream",
          "name": "stdout",
          "text": [
            "K1 = 2.0042 +- 0.0012\n",
            "K2 = 1.9927 +- 0.0014\n",
            "K3 = 1.9978 +- 0.0029\n",
            "K4 = 2.0039 +- 0.0021\n"
          ]
        }
      ]
    },
    {
      "cell_type": "markdown",
      "source": [
        "Per avere un' idea generale su quanto la nostra ipotesi inerente alla dipendenza del periodo dalla lunghezza potesse essere veritiera, abbiamo calcolato, partendo dalle 4 lunghezze utilizzate e i 4 periodi ottenuti, le 4 K attraverso la formula $T = K\\sqrt{l}$. I 4 valori ottenuti hanno fra di loro una discrepanza minima, cosa che ci ha incentivato a dimostrare la validità della precedente formula in maniera più rigorosa attraverso il chi quadro."
      ],
      "metadata": {
        "id": "8KqhoAwizdBp"
      }
    },
    {
      "cell_type": "code",
      "execution_count": 26,
      "metadata": {
        "id": "e9L5gyCL8i-v",
        "outputId": "99fad3af-2fbf-4eff-9a33-d8554e118a86",
        "colab": {
          "base_uri": "https://localhost:8080/",
          "height": 983
        }
      },
      "outputs": [
        {
          "output_type": "display_data",
          "data": {
            "text/plain": [
              "<Figure size 500x500 with 1 Axes>"
            ],
            "image/png": "[encoded data removed]"
          },
          "metadata": {}
        },
        {
          "output_type": "display_data",
          "data": {
            "text/plain": [
              "<Figure size 500x500 with 1 Axes>"
            ],
            "image/png": "[encoded data removed]"
          },
          "metadata": {}
        }
      ],
      "source": [
        "#grafico K\n",
        "valx = np.linspace(0, 1, 300)\n",
        "def Tteorico(valx):\n",
        "  (params[0])*np.sqrt(valx)\n",
        "  return  (params[0])*np.sqrt(valx)\n",
        "#graph limitato\n",
        "fig, ax = plt.subplots( figsize=(5,5) )\n",
        "plt.title('grafico basato sui valori raccolti')\n",
        "plt.errorbar(l_med,f1(l_med,params), yerr=params_err)\n",
        "plt.xlabel('l', fontsize=14)\n",
        "plt.ylabel('T', fontsize=14)\n",
        "plt.xticks(fontsize=12)\n",
        "plt.yticks(fontsize=12)\n",
        "highlight_x = [l1m3_med, l2m3_med, l3m1_med, l4m2_med]\n",
        "highlight_T = [2 * np.sqrt(x) for x in highlight_x]\n",
        "\n",
        "plt.scatter(highlight_x, highlight_T, color='red', label='valori sperimentali')\n",
        "plt.legend(fontsize=14)\n",
        "plt.show()\n",
        "\n",
        "#graph curva completa\n",
        "fig, ax = plt.subplots( figsize=(5,5) )\n",
        "plt.title('grafico della funzione $T = K\\sqrt{l}$, evidenziando i valori ottenuti sperimentalmente')\n",
        "plt.errorbar(valx, Tteorico(valx))\n",
        "plt.xlabel('l', fontsize=14)\n",
        "plt.ylabel('T', fontsize=14)\n",
        "plt.xticks(fontsize=12)\n",
        "plt.yticks(fontsize=12)\n",
        "highlight_x = [l1m3_med, l2m3_med, l3m1_med, l4m2_med]\n",
        "highlight_T = [2 * np.sqrt(x) for x in highlight_x]\n",
        "\n",
        "plt.scatter(highlight_x, highlight_T, color='red', label='valori sperimentali')\n",
        "\n",
        "plt.legend(fontsize=14)\n",
        "plt.show()\n",
        "\n"
      ]
    },
    {
      "cell_type": "markdown",
      "source": [
        "Poichè il grafico disegnato utilizzando la funzione plot riceve in input solo pochi valori e tutti molto ravvicinati, la funzione sembrerebbe avere un andamento lineare, quindi per rendere più chiaro l' andamento della funzione radice quadrata abbiamo scelto di rappresentare un secondo grafico fornendo in input una mole più ampia di valori ed evidenziando quelli a nostra disposizione con il colore rosso"
      ],
      "metadata": {
        "id": "mZnV_bL7z2gZ"
      }
    },
    {
      "cell_type": "code",
      "source": [
        "#Calcolo g e relativa incertezza\n",
        "g = (2 * np.pi / params) ** 2\n",
        "\n",
        "def g1(k):\n",
        "    return (2 * np.pi / k) ** 2\n",
        "\n",
        "k = sp.Symbol('k')\n",
        "dgdk = sp.diff(g1(k), k)\n",
        "derivative = dgdk.subs(k, params[0])\n",
        "inc_g = abs(derivative) * params_err\n",
        "\n",
        "# Stampa i risultati\n",
        "print(\"La miglior stima di g secondo i dati sperimentali è:\")\n",
        "for i in range(len(g)):\n",
        "    print(\"g[{}]= {:.4f} +- {:.4f}\".format(i, g[i], inc_g[i]))"
      ],
      "metadata": {
        "id": "CxFGxUK8ryFk",
        "outputId": "47ba767e-24d3-40d7-8a24-8cb9dc5ca6e0",
        "colab": {
          "base_uri": "https://localhost:8080/"
        }
      },
      "execution_count": 24,
      "outputs": [
        {
          "output_type": "stream",
          "name": "stdout",
          "text": [
            "La miglior stima di g secondo i dati sperimentali è:\n",
            "g[0]= 9.8652 +- 0.0265\n"
          ]
        }
      ]
    },
    {
      "cell_type": "code",
      "source": [
        "# calcolo chi2 ridotto\n",
        "y1_fit = f1(l_med, params[0])\n",
        "squred_error = (np.power((y1_fit - T_med), 2))/ T_sdom\n",
        "chi2_ = squred_error.sum()\n",
        "print(\"chi2 = {:.4f}\".format(chi2_))\n",
        "chi2_r=chi2_/(len(l_med)-1)\n",
        "print(\"chi2 ridotto = {:.4f}\".format(chi2_r))\n",
        "p_value = chi2.sf(chi2_, (len(l_med)-1))\n",
        "print(\"prob_chi2  = {:.4f}\".format(p_value*100),\"%\")"
      ],
      "metadata": {
        "id": "pKgaIhRJoPbl",
        "outputId": "798bc82a-549f-4e5a-b8bd-4bcec3683694",
        "colab": {
          "base_uri": "https://localhost:8080/"
        }
      },
      "execution_count": 25,
      "outputs": [
        {
          "output_type": "stream",
          "name": "stdout",
          "text": [
            "chi2 = 0.0191\n",
            "chi2 ridotto = 0.0064\n",
            "prob_chi2  = 99.9301 %\n"
          ]
        }
      ]
    },
    {
      "cell_type": "markdown",
      "source": [
        "CONCLUSIONI\n",
        "\n",
        "Con l'aiuto dell'analisi dei dati è possibile discutere i risultati dell'esperimento. Procederemo in ordine trattando in primo luogo l'indipendenza del periodo dalla massa per poi procedere con la dipendenza del periodo dalla lunghezza del braccio e concludendo con la discussione della miglior stima dell'accelerazione gravitazionale.\n",
        "Abbiamo supposto che fosse presente una relazione di dipendenza fra le lunghezze del braccio del pendolo e i rispettivi periodi misurati, e al contempo che non ci fosse nessuna relazione tra le masse e i periodi.\n",
        "Per verificare queste nostre ipotesi abbiamo considerato la legge: $T = K\\sqrt{l}$, Dove K rappresenta una costante. Inizialmente è stato scelto un angolo di pari a 10 gradi ma a causa dell'approssimazione dei piccoli angoli risultava esserci un errore troppo grande rispetto a quello sul periodo e sulla lunghezza del filo, perciò abbiamo deciso di utilizzare un angolo di 5 gradi che è risultato avere un'incertezza adatta per l' esperienza. Grazie alle misure fatte risulta che variando la massa, la misura di K non varia mentre variando la lunghezza del filo la misura di K resta invariata. Ciò significa che il periodo non dipende dalla massa e che viceversa dipende dalla lunghezza. Questa conclusione è rafforzata grazie al calcolo del ${\\tilde\\chi}^2$ che sembra dare conferma di quanto ipotizzato. Partendo dalle conclusioni fatte in precedenza e utilizzando la formula fornita dalle dispense possiamo trovare la misura di g:   $g=(\\frac{2\\pi}{K})^2$ Il valore di K è stato ricavato utilizzando la regressione lineare. La misura di g che ne risulta è confrontabile con quella che viene considerata per convenzione la misura di g. Anche in questo caso il calcolo del ${\\tilde\\chi}^2$ sembra dare conferma di quanto concluso."
      ],
      "metadata": {
        "id": "cpqP42YJ-KrG"
      }
    }
  ]
}